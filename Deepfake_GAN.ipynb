{
  "nbformat": 4,
  "nbformat_minor": 0,
  "metadata": {
    "colab": {
      "provenance": [],
      "gpuType": "T4",
      "authorship_tag": "ABX9TyNZrJQYw5ONjEFWkGpLcFST",
      "include_colab_link": true
    },
    "kernelspec": {
      "name": "python3",
      "display_name": "Python 3"
    },
    "language_info": {
      "name": "python"
    },
    "accelerator": "GPU"
  },
  "cells": [
    {
      "cell_type": "markdown",
      "metadata": {
        "id": "view-in-github",
        "colab_type": "text"
      },
      "source": [
        "<a href=\"https://colab.research.google.com/github/acreatorrr/GAN_Deepfake_detection/blob/main/Deepfake_GAN.ipynb\" target=\"_parent\"><img src=\"https://colab.research.google.com/assets/colab-badge.svg\" alt=\"Open In Colab\"/></a>"
      ]
    },
    {
      "cell_type": "code",
      "execution_count": 5,
      "metadata": {
        "colab": {
          "base_uri": "https://localhost:8080/"
        },
        "id": "tsVzNDiwARmC",
        "outputId": "278f3883-5fbe-491a-8d01-f5eacfaafe36"
      },
      "outputs": [
        {
          "output_type": "stream",
          "name": "stdout",
          "text": [
            "/\n",
            "Drive already mounted at /content/gdrive; to attempt to forcibly remount, call drive.mount(\"/content/gdrive\", force_remount=True).\n"
          ]
        }
      ],
      "source": [
        "%cd ..\n",
        "from google.colab import drive\n",
        "drive.mount('/content/gdrive')\n"
      ]
    },
    {
      "cell_type": "code",
      "source": [
        "import tensorflow as tf\n",
        "from tensorflow import keras\n",
        "from tensorflow.keras import layers\n",
        "import numpy as np\n",
        "import os"
      ],
      "metadata": {
        "id": "qo1L_1o-Aglh"
      },
      "execution_count": 16,
      "outputs": []
    },
    {
      "cell_type": "code",
      "source": [],
      "metadata": {
        "id": "EGX0IZxgVILW"
      },
      "execution_count": null,
      "outputs": []
    },
    {
      "cell_type": "code",
      "source": [
        "\n",
        "\n",
        "\n",
        "image_dir_real = '/content/gdrive/MyDrive/Deepfake-detection/data/Real'\n",
        "image_dir_fake = '/content/gdrive/MyDrive/Deepfake-detection/data/DeepFake'\n",
        "\n",
        "\n",
        "def preprocess_image(image):\n",
        "    image = tf.image.resize(image, (128, 128))\n",
        "    image = image / 255.0\n",
        "    return image\n",
        "\n",
        "def load_image(image_path):\n",
        "    image = tf.io.read_file(image_path)\n",
        "    image = tf.image.decode_image(image, channels=3)\n",
        "    image = preprocess_image(image)\n",
        "    return image\n",
        "\n",
        "\n",
        "real_image_paths = [os.path.join(image_dir_real, filename) for filename in os.listdir(image_dir_real) if filename.lower().endswith(('.jpg', '.jpeg', '.png'))]\n",
        "fake_image_paths = [os.path.join(image_dir_fake, filename) for filename in os.listdir(image_dir_fake) if filename.lower().endswith(('.jpg', '.jpeg', '.png'))]\n",
        "\n",
        "\n",
        "real_images = [load_image(path) for path in real_image_paths]\n",
        "\n",
        "\n",
        "fake_images = [load_image(path) for path in fake_image_paths]\n"
      ],
      "metadata": {
        "id": "kSgZXsBHYwjt"
      },
      "execution_count": 17,
      "outputs": []
    },
    {
      "cell_type": "code",
      "source": [],
      "metadata": {
        "id": "IbNWnIQYYwmd"
      },
      "execution_count": null,
      "outputs": []
    },
    {
      "cell_type": "code",
      "source": [],
      "metadata": {
        "id": "p0K5MUYoYwuS"
      },
      "execution_count": null,
      "outputs": []
    },
    {
      "cell_type": "code",
      "source": [
        "def create_discriminator_model(input_shape=(128, 128, 3)):\n",
        "    model = keras.Sequential([\n",
        "        layers.Conv2D(64, (3, 3), strides=(2, 2), padding=\"same\", input_shape=input_shape),\n",
        "        layers.LeakyReLU(alpha=0.2),\n",
        "\n",
        "        layers.Conv2D(128, (3, 3), strides=(2, 2), padding=\"same\"),\n",
        "        layers.BatchNormalization(),\n",
        "        layers.LeakyReLU(alpha=0.2),\n",
        "\n",
        "        layers.Flatten(),\n",
        "        layers.Dense(1, activation=\"sigmoid\")\n",
        "    ])\n",
        "    return model\n",
        "\n",
        "discriminator = create_discriminator_model()\n",
        "discriminator.compile(loss=\"binary_crossentropy\", optimizer=keras.optimizers.Adam(0.0002, 0.5), metrics=[\"accuracy\"])\n"
      ],
      "metadata": {
        "id": "Vh07aubiVIT0"
      },
      "execution_count": 18,
      "outputs": []
    },
    {
      "cell_type": "code",
      "source": [],
      "metadata": {
        "id": "7A40OmvqVIWq"
      },
      "execution_count": null,
      "outputs": []
    },
    {
      "cell_type": "code",
      "source": [],
      "metadata": {
        "id": "06WJAMQhVPVo"
      },
      "execution_count": null,
      "outputs": []
    },
    {
      "cell_type": "code",
      "source": [
        "X_real = np.array(real_images)\n",
        "X_fake = np.array(fake_images)\n",
        "\n",
        "y_real = np.ones((X_real.shape[0], 1))\n",
        "y_fake = np.zeros((X_fake.shape[0], 1))\n",
        "\n",
        "X_train = np.concatenate((X_real, X_fake), axis=0)\n",
        "y_train = np.concatenate((y_real, y_fake), axis=0)\n",
        "\n",
        "discriminator.fit(X_train, y_train, epochs=10, batch_size=16)\n"
      ],
      "metadata": {
        "colab": {
          "base_uri": "https://localhost:8080/"
        },
        "id": "1ENqOZIXVPYc",
        "outputId": "35024108-db94-4775-b6d5-b652ba90c950"
      },
      "execution_count": 19,
      "outputs": [
        {
          "output_type": "stream",
          "name": "stdout",
          "text": [
            "Epoch 1/10\n",
            "444/444 [==============================] - 15s 8ms/step - loss: 0.1718 - accuracy: 0.9389\n",
            "Epoch 2/10\n",
            "444/444 [==============================] - 3s 7ms/step - loss: 0.0545 - accuracy: 0.9796\n",
            "Epoch 3/10\n",
            "444/444 [==============================] - 3s 7ms/step - loss: 0.0464 - accuracy: 0.9842\n",
            "Epoch 4/10\n",
            "444/444 [==============================] - 3s 8ms/step - loss: 0.0276 - accuracy: 0.9918\n",
            "Epoch 5/10\n",
            "444/444 [==============================] - 4s 8ms/step - loss: 0.0105 - accuracy: 0.9969\n",
            "Epoch 6/10\n",
            "444/444 [==============================] - 3s 7ms/step - loss: 0.0109 - accuracy: 0.9968\n",
            "Epoch 7/10\n",
            "444/444 [==============================] - 3s 7ms/step - loss: 0.0225 - accuracy: 0.9952\n",
            "Epoch 8/10\n",
            "444/444 [==============================] - 3s 8ms/step - loss: 0.0167 - accuracy: 0.9939\n",
            "Epoch 9/10\n",
            "444/444 [==============================] - 4s 8ms/step - loss: 0.0305 - accuracy: 0.9934\n",
            "Epoch 10/10\n",
            "444/444 [==============================] - 3s 7ms/step - loss: 0.0059 - accuracy: 0.9973\n"
          ]
        },
        {
          "output_type": "execute_result",
          "data": {
            "text/plain": [
              "<keras.src.callbacks.History at 0x7f2e9c29cdf0>"
            ]
          },
          "metadata": {},
          "execution_count": 19
        }
      ]
    },
    {
      "cell_type": "code",
      "source": [],
      "metadata": {
        "id": "5zWrW8bMVPcC"
      },
      "execution_count": null,
      "outputs": []
    },
    {
      "cell_type": "code",
      "source": [
        "def detect_deepfake_image(image, threshold=0.5):\n",
        "    image = np.expand_dims(image, axis=0)\n",
        "    prediction = discriminator.predict(image)\n",
        "\n",
        "    if prediction > threshold:\n",
        "        return \"This image is likely a real.\"\n",
        "    else:\n",
        "        return \"This image appears to be deepfake.\"\n",
        "\n",
        "realImage='/content/gdrive/MyDrive/df_det/real/99_372.jpg'\n",
        "fakeImage='/content/gdrive/MyDrive/df_det/fake/179_96.jpg'\n",
        "\n",
        "image_to_check = load_image('/content/deep_fake_test.jpg')\n",
        "result = detect_deepfake_image(image_to_check)\n",
        "print(result)\n"
      ],
      "metadata": {
        "colab": {
          "base_uri": "https://localhost:8080/"
        },
        "id": "DtER6gqgVPfd",
        "outputId": "32603d47-da26-4480-edfa-291f0e4980a6"
      },
      "execution_count": 27,
      "outputs": [
        {
          "output_type": "stream",
          "name": "stdout",
          "text": [
            "1/1 [==============================] - 0s 184ms/step\n",
            "This image appears to be deepfake.\n"
          ]
        }
      ]
    },
    {
      "cell_type": "code",
      "source": [],
      "metadata": {
        "id": "LsJlkKNWiPek"
      },
      "execution_count": null,
      "outputs": []
    }
  ]
}